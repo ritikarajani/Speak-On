{
 "cells": [
  {
   "cell_type": "code",
   "execution_count": null,
   "metadata": {},
   "outputs": [],
   "source": [
    "#to help python to speak to us \n",
    "import pyttsx3 "
   ]
  },
  {
   "cell_type": "code",
   "execution_count": null,
   "metadata": {},
   "outputs": [],
   "source": [
    "!pip install pyttsx3"
   ]
  },
  {
   "cell_type": "code",
   "execution_count": null,
   "metadata": {},
   "outputs": [],
   "source": [
    "!pip install SpeechRecognition"
   ]
  },
  {
   "cell_type": "code",
   "execution_count": null,
   "metadata": {},
   "outputs": [],
   "source": [
    "!pip install pywhatkit"
   ]
  },
  {
   "cell_type": "code",
   "execution_count": null,
   "metadata": {},
   "outputs": [],
   "source": [
    "!pip install yfinance"
   ]
  },
  {
   "cell_type": "code",
   "execution_count": null,
   "metadata": {},
   "outputs": [],
   "source": [
    "!pip install pyjokes"
   ]
  },
  {
   "cell_type": "code",
   "execution_count": null,
   "metadata": {},
   "outputs": [],
   "source": [
    "!pip install pipwin\n",
    "!pipwin install pyaudio"
   ]
  },
  {
   "cell_type": "code",
   "execution_count": null,
   "metadata": {},
   "outputs": [],
   "source": [
    "!pip install wikipedia"
   ]
  },
  {
   "cell_type": "code",
   "execution_count": null,
   "metadata": {},
   "outputs": [],
   "source": [
    "#to help python to speak to us \n",
    "import pyttsx3 \n",
    "import speech_recognition as sr\n",
    "import webbrowser\n",
    "import datetime\n",
    "import pywhatkit\n",
    "import os\n",
    "import yfinance as yf\n",
    "import pyjokes \n",
    "import pyaudio\n",
    "import wikipedia"
   ]
  },
  {
   "cell_type": "code",
   "execution_count": null,
   "metadata": {},
   "outputs": [],
   "source": [
    "#listen to our microphone and return audio as text using google\n",
    "def transformaudio():\n",
    "    r = sr.Recognizer()\n",
    "    with sr.Microphone() as source:\n",
    "        r.pause_threshold = 0.8\n",
    "        userwords = r.listen(source)\n",
    "        try:\n",
    "            print(\"I am listening\")\n",
    "            query =  r.recognize_google(userwords,language =\"en\")\n",
    "            return query\n",
    "        except sr.UnknownValueError:\n",
    "            print(\"Sorry I dint understand\")\n",
    "            return \"I am waiting\"\n",
    "        except sr.RequestError:\n",
    "            print(\"Sorry the service is down\")\n",
    "            return \"I am waiting\"\n",
    "        except:\n",
    "            return \"I am waiting\""
   ]
  },
  {
   "cell_type": "code",
   "execution_count": null,
   "metadata": {},
   "outputs": [],
   "source": [
    "transformaudio()"
   ]
  },
  {
   "cell_type": "code",
   "execution_count": null,
   "metadata": {},
   "outputs": [],
   "source": [
    "#voice assistant to speak to us\n",
    "def speaking(message):\n",
    "    engine = pyttsx3.init()\n",
    "    engine.say(message)\n",
    "    engine.runAndWait()"
   ]
  },
  {
   "cell_type": "code",
   "execution_count": null,
   "metadata": {},
   "outputs": [],
   "source": [
    "#to find which and all languages are installed in your system\n",
    "engine = pyttsx3.init()\n",
    "for voice in engine.getProperty('voices'):\n",
    "        print(voice)"
   ]
  },
  {
   "cell_type": "code",
   "execution_count": null,
   "metadata": {},
   "outputs": [],
   "source": [
    "id = \"HKEY_LOCAL_MACHINE\\SOFTWARE\\Microsoft\\Speech\\Voices\\Tokens\\TTS_MS_EN-US_ZIRA_11.0\"\n",
    "engine.setProperty('voice', voice.id)\n",
    "engine.say('Hi good morning')\n",
    "engine.runAndWait() "
   ]
  },
  {
   "cell_type": "code",
   "execution_count": null,
   "metadata": {},
   "outputs": [],
   "source": [
    "def q_day():\n",
    "    day =  datetime.date.today()\n",
    "    #print(day)\n",
    "    weekday = day.weekday()\n",
    "    #print(weekday)\n",
    "    #to get day in words\n",
    "    mapping = {\n",
    "        0:'Monday',\n",
    "        1:'Tuesday',\n",
    "        2:'Wednesday',\n",
    "        3:'Thursday',\n",
    "        4:'Friday',\n",
    "        5:'Saturday',\n",
    "        6:'Sunday'\n",
    "    }\n",
    "    try:\n",
    "        speaking(f'Today is {mapping[weekday]}')\n",
    "    except:\n",
    "        pass"
   ]
  },
  {
   "cell_type": "code",
   "execution_count": null,
   "metadata": {},
   "outputs": [],
   "source": [
    "q_day()"
   ]
  },
  {
   "cell_type": "code",
   "execution_count": null,
   "metadata": {},
   "outputs": [],
   "source": [
    "def q_time():\n",
    "    time = datetime.datetime.now().strftime(\"%I:%M:%S\")\n",
    "    speaking(f\"The time right now is {time[1]} o'clock and {time[3:5]} minutes\")"
   ]
  },
  {
   "cell_type": "code",
   "execution_count": null,
   "metadata": {},
   "outputs": [],
   "source": [
    "q_time()"
   ]
  },
  {
   "cell_type": "code",
   "execution_count": null,
   "metadata": {},
   "outputs": [],
   "source": [
    "#introduction greeting \n",
    "def greeting():\n",
    "    speaking('''Hi, I am is Ritika, Im your personal assisstant.\n",
    "    How may i help youu''')"
   ]
  },
  {
   "cell_type": "code",
   "execution_count": null,
   "metadata": {},
   "outputs": [],
   "source": [
    "greeting()"
   ]
  },
  {
   "cell_type": "code",
   "execution_count": null,
   "metadata": {},
   "outputs": [],
   "source": [
    "#main fucntion/heart of our assisstant. Takes queries and returns answers.\n",
    "def main():\n",
    "    greeting()\n",
    "    start = True\n",
    "    while(start):\n",
    "        query = transformaudio().lower()\n",
    "        \n",
    "        if 'start youtube' in query:\n",
    "            speaking(\"starting youtube now\")\n",
    "            webbrowser.open(\"https://www.youtube.com/\")\n",
    "            continue\n",
    "            \n",
    "        elif 'start webbrowser' in query:\n",
    "            speaking('opening web browser')\n",
    "            webbrowser.open(\"https://www.google.com/webhp?hl=en&sa=X&ved=0ahUKEwjK_JHW__PyAhXLyzgGHY70CGYQPAgI\")\n",
    "            continue\n",
    "            \n",
    "        elif 'what day it is' in query:\n",
    "            q_day()\n",
    "            continue\n",
    "            \n",
    "        elif 'what is the time now' in query:\n",
    "            q_time()\n",
    "            continue\n",
    "            \n",
    "        elif 'shutdown' in query:\n",
    "            speaking('Goodbye, Have a good day')\n",
    "            break\n",
    "            \n",
    "        elif \"from wikipedia\" in query:\n",
    "            speaking(\"Checking wikipedia\")\n",
    "            query = query.replace(\"wikipedia\",\"\")\n",
    "            result = wikipedia.summary(query,sentence = 3)\n",
    "            speaking('Found this on wikipedia')\n",
    "            speaking(result)\n",
    "            continue\n",
    "            \n",
    "        elif \"your name\" in query:\n",
    "            speaking(\"I am Ritika\")\n",
    "            continue\n",
    "            \n",
    "        elif \"search web\" in query:\n",
    "            pywhatkit.search(query)\n",
    "            speaking(\"that is what i found\")\n",
    "            continue\n",
    "        \n",
    "        elif \"play\" in query:\n",
    "            speaking(f'playing {query}')\n",
    "            pywhatkit.playonyt(query)\n",
    "            continue\n",
    "        \n",
    "        elif \"joke\" in query:\n",
    "            speaking(pyjokes.get_jokes())\n",
    "            continue"
   ]
  },
  {
   "cell_type": "code",
   "execution_count": null,
   "metadata": {},
   "outputs": [],
   "source": [
    "main()"
   ]
  }
 ],
 "metadata": {
  "kernelspec": {
   "display_name": "Python 3",
   "language": "python",
   "name": "python3"
  },
  "language_info": {
   "codemirror_mode": {
    "name": "ipython",
    "version": 3
   },
   "file_extension": ".py",
   "mimetype": "text/x-python",
   "name": "python",
   "nbconvert_exporter": "python",
   "pygments_lexer": "ipython3",
   "version": "3.8.3"
  }
 },
 "nbformat": 4,
 "nbformat_minor": 4
}
